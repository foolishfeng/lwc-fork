{
  "nbformat": 4,
  "nbformat_minor": 0,
  "metadata": {
    "colab": {
      "provenance": [],
      "include_colab_link": true
    },
    "kernelspec": {
      "name": "python3",
      "display_name": "Python 3"
    },
    "language_info": {
      "name": "python"
    },
    "widgets": {
      "application/vnd.jupyter.widget-state+json": {
        "cefdcba6e90a487d8dac495c8a85e519": {
          "model_module": "@jupyter-widgets/controls",
          "model_name": "PasswordModel",
          "model_module_version": "1.5.0",
          "state": {
            "_dom_classes": [],
            "_model_module": "@jupyter-widgets/controls",
            "_model_module_version": "1.5.0",
            "_model_name": "PasswordModel",
            "_view_count": null,
            "_view_module": "@jupyter-widgets/controls",
            "_view_module_version": "1.5.0",
            "_view_name": "PasswordView",
            "continuous_update": true,
            "description": "Poe-token:",
            "description_tooltip": null,
            "disabled": false,
            "layout": "IPY_MODEL_fb03009b7362468f88dea383e4447018",
            "placeholder": "Enter your poe-token",
            "style": "IPY_MODEL_8e8a125930dd4d5bb78674f10f1e9f41",
            "value": ""
          }
        },
        "fb03009b7362468f88dea383e4447018": {
          "model_module": "@jupyter-widgets/base",
          "model_name": "LayoutModel",
          "model_module_version": "1.2.0",
          "state": {
            "_model_module": "@jupyter-widgets/base",
            "_model_module_version": "1.2.0",
            "_model_name": "LayoutModel",
            "_view_count": null,
            "_view_module": "@jupyter-widgets/base",
            "_view_module_version": "1.2.0",
            "_view_name": "LayoutView",
            "align_content": null,
            "align_items": null,
            "align_self": null,
            "border": null,
            "bottom": null,
            "display": null,
            "flex": null,
            "flex_flow": null,
            "grid_area": null,
            "grid_auto_columns": null,
            "grid_auto_flow": null,
            "grid_auto_rows": null,
            "grid_column": null,
            "grid_gap": null,
            "grid_row": null,
            "grid_template_areas": null,
            "grid_template_columns": null,
            "grid_template_rows": null,
            "height": null,
            "justify_content": null,
            "justify_items": null,
            "left": null,
            "margin": null,
            "max_height": null,
            "max_width": null,
            "min_height": null,
            "min_width": null,
            "object_fit": null,
            "object_position": null,
            "order": null,
            "overflow": null,
            "overflow_x": null,
            "overflow_y": null,
            "padding": null,
            "right": null,
            "top": null,
            "visibility": null,
            "width": null
          }
        },
        "8e8a125930dd4d5bb78674f10f1e9f41": {
          "model_module": "@jupyter-widgets/controls",
          "model_name": "DescriptionStyleModel",
          "model_module_version": "1.5.0",
          "state": {
            "_model_module": "@jupyter-widgets/controls",
            "_model_module_version": "1.5.0",
            "_model_name": "DescriptionStyleModel",
            "_view_count": null,
            "_view_module": "@jupyter-widgets/base",
            "_view_module_version": "1.2.0",
            "_view_name": "StyleView",
            "description_width": "initial"
          }
        },
        "64542d02253d4997a4ddbd3c8820f253": {
          "model_module": "@jupyter-widgets/controls",
          "model_name": "ButtonModel",
          "model_module_version": "1.5.0",
          "state": {
            "_dom_classes": [],
            "_model_module": "@jupyter-widgets/controls",
            "_model_module_version": "1.5.0",
            "_model_name": "ButtonModel",
            "_view_count": null,
            "_view_module": "@jupyter-widgets/controls",
            "_view_module_version": "1.5.0",
            "_view_name": "ButtonView",
            "button_style": "success",
            "description": "Save Poe-token",
            "disabled": false,
            "icon": "check",
            "layout": "IPY_MODEL_bea7b728e49646d5814d8c8ca3f0194b",
            "style": "IPY_MODEL_8d4a23dbe6f84d87ae9d235c5ce5a7e2",
            "tooltip": "Click to save the entered poe-token to an environment variable"
          }
        },
        "bea7b728e49646d5814d8c8ca3f0194b": {
          "model_module": "@jupyter-widgets/base",
          "model_name": "LayoutModel",
          "model_module_version": "1.2.0",
          "state": {
            "_model_module": "@jupyter-widgets/base",
            "_model_module_version": "1.2.0",
            "_model_name": "LayoutModel",
            "_view_count": null,
            "_view_module": "@jupyter-widgets/base",
            "_view_module_version": "1.2.0",
            "_view_name": "LayoutView",
            "align_content": null,
            "align_items": null,
            "align_self": null,
            "border": null,
            "bottom": null,
            "display": null,
            "flex": null,
            "flex_flow": null,
            "grid_area": null,
            "grid_auto_columns": null,
            "grid_auto_flow": null,
            "grid_auto_rows": null,
            "grid_column": null,
            "grid_gap": null,
            "grid_row": null,
            "grid_template_areas": null,
            "grid_template_columns": null,
            "grid_template_rows": null,
            "height": null,
            "justify_content": null,
            "justify_items": null,
            "left": null,
            "margin": null,
            "max_height": null,
            "max_width": null,
            "min_height": null,
            "min_width": null,
            "object_fit": null,
            "object_position": null,
            "order": null,
            "overflow": null,
            "overflow_x": null,
            "overflow_y": null,
            "padding": null,
            "right": null,
            "top": null,
            "visibility": null,
            "width": null
          }
        },
        "8d4a23dbe6f84d87ae9d235c5ce5a7e2": {
          "model_module": "@jupyter-widgets/controls",
          "model_name": "ButtonStyleModel",
          "model_module_version": "1.5.0",
          "state": {
            "_model_module": "@jupyter-widgets/controls",
            "_model_module_version": "1.5.0",
            "_model_name": "ButtonStyleModel",
            "_view_count": null,
            "_view_module": "@jupyter-widgets/base",
            "_view_module_version": "1.2.0",
            "_view_name": "StyleView",
            "button_color": null,
            "font_weight": ""
          }
        }
      }
    }
  },
  "cells": [
    {
      "cell_type": "markdown",
      "metadata": {
        "id": "view-in-github",
        "colab_type": "text"
      },
      "source": [
        "<a href=\"https://colab.research.google.com/github/foolishfeng/lwc-fork/blob/main/gpt4free.ipynb\" target=\"_parent\"><img src=\"https://colab.research.google.com/assets/colab-badge.svg\" alt=\"Open In Colab\"/></a>"
      ]
    },
    {
      "cell_type": "markdown",
      "source": [
        "# **[GPT4free Jupyter Notebook (leave a star)](https://github.com/DanielShemesh/gpt4free-colab/)**\n",
        "\n",
        "This program is licensed under the GNU GPL v3.\n",
        "\n",
        "&copy; 2023 Made by [Daniel Shemesh](https://github.com/DanielShemesh).\n",
        "  \n",
        "This Jupyter Notebook contains code written by [Daniel Shemesh](https://github.com/DanielShemesh). It is based on work from the GitHub repository by xtekky ([GPT4free](https://github.com/xtekky/gpt4free/)). The code in this notebook is released under the terms of the GNU General Public License v3, which allows for free redistribution and modification of the code in accordance with the terms of the license.\n",
        "\n",
        "## Disclaimer\n",
        "\n",
        "This repository uses third-party APIs and AI models and is not associated with or endorsed by the API providers or the original developers of the models. This project is intended for educational purposes only.\n",
        "\n",
        "Please note the following:\n",
        "\n",
        "**Disclaimer**: The APIs, services, and trademarks mentioned in this repository belong to their respective owners. This project is not claiming any right over them.\n",
        "\n",
        "**Responsibility**: The author of this repository is not responsible for any consequences arising from the use or misuse of this repository or the content provided by the third-party APIs and any damage or losses caused by users' actions.\n",
        "\n",
        "**Educational Purposes Only**: This repository and its content are provided strictly for educational purposes. By using the information and code provided, users acknowledge that they are using the APIs and models at their own risk and agree to comply with any applicable laws and regulations.\n"
      ],
      "metadata": {
        "id": "-dgsCWj894Jf"
      }
    },
    {
      "cell_type": "code",
      "source": [],
      "metadata": {
        "id": "69_PEmPYpWzi"
      },
      "execution_count": null,
      "outputs": []
    },
    {
      "cell_type": "code",
      "execution_count": 3,
      "metadata": {
        "id": "wbnrfNtOMW78",
        "collapsed": true
      },
      "outputs": [],
      "source": [
        "#@markdown #Install requirements\n",
        "\n",
        "%%capture captured_output\n",
        "\n",
        "!git clone https://github.com/xtekky/gpt4free\n",
        "%cd gpt4free\n",
        "!mv testing/* ./\n",
        "!pip install -r requirements.txt\n",
        "!pip install ipywidgets"
      ]
    },
    {
      "cell_type": "markdown",
      "source": [
        "#Instructions\n",
        "##Poe/Quora\n",
        "* Sign up to [Poe](https://www.poe.com) and head over to the site\n",
        "* ctrl+shift+i to open developer console\n",
        "* Go to Application -> Cookies -> https://poe.com\n",
        "* Find the **p-b** cookie and copy its value, this will be your **Poe-token**"
      ],
      "metadata": {
        "id": "gITVWcGo2coc"
      }
    },
    {
      "cell_type": "code",
      "source": [
        "#@markdown #Define secrets\n",
        "\n",
        "import os\n",
        "import ipywidgets as widgets\n",
        "from IPython.display import display\n",
        "\n",
        "def create_input_widget(word):\n",
        "    widget = widgets.Password(\n",
        "        value='',\n",
        "        placeholder=f'Enter your {word}',\n",
        "        description=f'{word.capitalize()}:',\n",
        "        disabled=False,\n",
        "        style={'description_width': 'initial'}\n",
        "    )\n",
        "    return widget\n",
        "\n",
        "def create_save_button(word, widget):\n",
        "    button = widgets.Button(\n",
        "        description=f'Save {word.capitalize()}',\n",
        "        disabled=False,\n",
        "        button_style='success',\n",
        "        tooltip=f'Click to save the entered {word} to an environment variable',\n",
        "        icon='check'\n",
        "    )\n",
        "    button.on_click(lambda b: save_word(word, widget))\n",
        "    return button\n",
        "\n",
        "def save_word(word, widget):\n",
        "    os.environ[f'SECRET_{word.upper()}'] = widget.value\n",
        "    print(f\"{word.capitalize()} saved successfully!\")\n",
        "\n",
        "def create_input_and_save_button(word):\n",
        "    widget = create_input_widget(word)\n",
        "    button = create_save_button(word, widget)\n",
        "    display(widget)\n",
        "    display(button)\n",
        "\n",
        "create_input_and_save_button('poe-token')"
      ],
      "metadata": {
        "id": "olblQNP9VhZf",
        "colab": {
          "base_uri": "https://localhost:8080/",
          "height": 81,
          "referenced_widgets": [
            "cefdcba6e90a487d8dac495c8a85e519",
            "fb03009b7362468f88dea383e4447018",
            "8e8a125930dd4d5bb78674f10f1e9f41",
            "64542d02253d4997a4ddbd3c8820f253",
            "bea7b728e49646d5814d8c8ca3f0194b",
            "8d4a23dbe6f84d87ae9d235c5ce5a7e2"
          ]
        },
        "outputId": "a285cc50-fdb5-44cf-8059-f06aaa705c7e"
      },
      "execution_count": 4,
      "outputs": [
        {
          "output_type": "display_data",
          "data": {
            "text/plain": [
              "Password(description='Poe-token:', placeholder='Enter your poe-token', style=DescriptionStyle(description_widt…"
            ],
            "application/vnd.jupyter.widget-view+json": {
              "version_major": 2,
              "version_minor": 0,
              "model_id": "cefdcba6e90a487d8dac495c8a85e519"
            }
          },
          "metadata": {}
        },
        {
          "output_type": "display_data",
          "data": {
            "text/plain": [
              "Button(button_style='success', description='Save Poe-token', icon='check', style=ButtonStyle(), tooltip='Click…"
            ],
            "application/vnd.jupyter.widget-view+json": {
              "version_major": 2,
              "version_minor": 0,
              "model_id": "64542d02253d4997a4ddbd3c8820f253"
            }
          },
          "metadata": {}
        }
      ]
    },
    {
      "cell_type": "code",
      "source": [
        "from markdown_it import MarkdownIt\n",
        "from IPython.core.display import HTML\n",
        "\n",
        "import quora\n",
        "import os\n",
        "from time import sleep\n",
        "\n",
        "token = os.environ['SECRET_POE-TOKEN']\n",
        "\n",
        "#@markdown Choose a model and type your prompt\n",
        "model = \"gpt-3.5-turbo\"  # @param ['gpt-3.5-turbo', 'gpt-4', 'sage', 'claude-v1.2', 'claude-instant-v1.0']\n",
        "prompt = \"\\u5982\\u4F55\\u4F7F\\u7528Google Colab Jupyter Notebook?\" #@param {type: \"string\"}\n",
        "#@markdown Checking this will result in a live response\n",
        "streaming_response = False #@param {type: \"boolean\"}\n",
        "#@markdown Render Markdown in normal response (will not work in streaming response)\n",
        "render_markdown = True #@param {type: \"boolean\"}\n",
        "#@markdown Enable Chat Mode\n",
        "chat_mode = False #@param {type: \"boolean\"}\n",
        "\n",
        "def generate_completion(prompt):\n",
        "    response = quora.Completion.create(model=model, prompt=prompt, token=token)\n",
        "    return response.completion.choices[0].text\n",
        "\n",
        "if streaming_response and chat_mode:\n",
        "    while True:\n",
        "        user_input = input(\"You: \")\n",
        "        response = quora.StreamingCompletion.create(custom_model=model, prompt=user_input, token=token)\n",
        "        text = response.completion.choices[0].text\n",
        "\n",
        "        if render_markdown:\n",
        "            md = MarkdownIt()\n",
        "            html = md.render(text)\n",
        "            display(HTML(html))\n",
        "        else:\n",
        "            print(text)\n",
        "elif streaming_response and not chat_mode:\n",
        "    for response in quora.StreamingCompletion.create(custom_model=model, prompt=prompt, token=token):\n",
        "        text = response.completion.choices[0].text\n",
        "        print(text)\n",
        "elif chat_mode:\n",
        "    while True:\n",
        "        user_input = input(\"You: \")\n",
        "        text = generate_completion(user_input)\n",
        "\n",
        "        if render_markdown:\n",
        "            md = MarkdownIt()\n",
        "            html = md.render(text)\n",
        "            display(HTML(html))\n",
        "        else:\n",
        "            print(text)\n",
        "else:\n",
        "    text = generate_completion(prompt)\n",
        "\n",
        "    if render_markdown:\n",
        "        md = MarkdownIt()\n",
        "        html = md.render(text)\n",
        "        display(HTML(html))\n",
        "    else:\n",
        "        print(text)"
      ],
      "metadata": {
        "colab": {
          "base_uri": "https://localhost:8080/",
          "height": 289
        },
        "id": "IqH8o-WRpAqY",
        "outputId": "457c2bea-25c9-4428-e397-e347d6405dd3"
      },
      "execution_count": 5,
      "outputs": [
        {
          "output_type": "stream",
          "name": "stderr",
          "text": [
            "WARNING:root:Server returned a status code of 500 while downloading https://poe.com. Retrying (1/10)...\n"
          ]
        },
        {
          "output_type": "display_data",
          "data": {
            "text/plain": [
              "<IPython.core.display.HTML object>"
            ],
            "text/html": [
              "<p>Google Colab是一個基於Jupyter Notebook的云端筆記本，讓你能夠使用Google的雲端計算機資源來執行程式碼、建立機器學習模型等等。以下是使用Google Colab Jupyter Notebook的步驟：</p>\n",
              "<ol>\n",
              "<li>打開Google Colab網站：https://colab.research.google.com/</li>\n",
              "<li>點擊“New Notebook”按鈕，創建一個新的筆記本。</li>\n",
              "<li>在筆記本中編寫程式碼。你可以使用Python、R等等語言來編寫程式碼。如果你需要使用其他語言，可以安裝相應的核心來進行支持。</li>\n",
              "<li>執行程式碼。你可以點擊程式碼區塊的左側三角形按鈕或使用快捷鍵Shift + Enter來執行程式碼。</li>\n",
              "<li>存儲和分享筆記本。你可以通過文件菜單中的“Save”選項保存筆記本。如果你想分享筆記本，可以通過文件菜單中的“Share”選項來分享。</li>\n",
              "</ol>\n",
              "<p>除了上述步驟外，Google Colab還提供了許多強大的功能，例如：</p>\n",
              "<ul>\n",
              "<li>可以在筆記本中安裝和使用任何Python庫。</li>\n",
              "<li>可以將筆記本連接到Google Drive或GitHub等服務，方便存儲和分享筆記本。</li>\n",
              "<li>可以使用GPU或TPU等硬體資源來加速計算。</li>\n",
              "<li>可以在筆記本中添加Markdown區塊來編寫說明文件。</li>\n",
              "<li>可以在筆記本中添加表格、圖片、影片等多媒體元素來進行豐富的展示。</li>\n",
              "</ul>\n"
            ]
          },
          "metadata": {}
        }
      ]
    },
    {
      "cell_type": "code",
      "source": [],
      "metadata": {
        "id": "jZT8LIPioLhU"
      },
      "execution_count": 5,
      "outputs": []
    }
  ]
}